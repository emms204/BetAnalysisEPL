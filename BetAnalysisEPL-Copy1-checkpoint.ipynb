{
 "cells": [
  {
   "cell_type": "code",
   "execution_count": 3,
   "metadata": {},
   "outputs": [
    {
     "name": "stdout",
     "output_type": "stream",
     "text": [
      "Wall time: 998 µs\n"
     ]
    }
   ],
   "source": [
    "%%time\n",
    "import pandas as pd\n",
    "import numpy as np\n",
    "import matplotlib.pyplot as plt\n",
    "import seaborn as sns\n",
    "import statsmodels.api as sm\n",
    "import math\n",
    "import os\n",
    "from numba import njit\n",
    "os.chdir(\"C:/Users/good/Downloads/Odds Dataset\")"
   ]
  },
  {
   "cell_type": "code",
   "execution_count": 4,
   "metadata": {},
   "outputs": [
    {
     "name": "stdout",
     "output_type": "stream",
     "text": [
      "Wall time: 0 ns\n"
     ]
    }
   ],
   "source": [
    "%%time\n",
    "def custom_outcome(FTR):\n",
    "    if FTR == \"H\":\n",
    "        return \"Home\"\n",
    "    elif FTR == \"A\":\n",
    "        return \"Away\"\n",
    "    elif FTR == \"D\":\n",
    "        return \"Draw\"\n",
    "    elif FTR == \"Home\":\n",
    "        return \"Home\"\n",
    "    elif FTR == \"Away\":\n",
    "        return \"Away\"\n",
    "    elif FTR == \"Draw\":\n",
    "        return \"Draw\"\n",
    "def custom_result(FTR):\n",
    "    if FTR == \"Home\":\n",
    "        return 1\n",
    "    elif FTR == \"Away\":\n",
    "        return 2\n",
    "    elif FTR == \"Draw\":\n",
    "        return 0\n",
    "def goals(FTHG, FTAG):\n",
    "    if FTHG + FTAG >= 3.0:\n",
    "        return 1\n",
    "    else:\n",
    "        return 0\n",
    "def btts(FTHG, FTAG):\n",
    "    if (FTHG >= 1 & FTAG >= 1):\n",
    "        return 1\n",
    "    else:\n",
    "        return 0"
   ]
  },
  {
   "cell_type": "code",
   "execution_count": 5,
   "metadata": {},
   "outputs": [
    {
     "name": "stdout",
     "output_type": "stream",
     "text": [
      "Wall time: 33.6 s\n"
     ]
    }
   ],
   "source": [
    "%%time\n",
    "frames = []\n",
    "for i in os.listdir(r\"C:/Users/good/Downloads/Odds Dataset\"):\n",
    "    data = pd.read_csv(i,  encoding= 'unicode_escape')\n",
    "    data[\"FTR\"] = data.apply(lambda row:custom_outcome(row[\"FTR\"]),axis=1)\n",
    "    data = data[['HomeTeam','AwayTeam','FTHG','FTAG','FTR','HTHG','HTAG','HTR','B365H','B365A',\n",
    "                          'BWH','BWA','IWH','IWA','PSH','PSA','WHH','WHA','VCH','VCA']]\n",
    "    frames.append(data)"
   ]
  },
  {
   "cell_type": "code",
   "execution_count": 6,
   "metadata": {},
   "outputs": [
    {
     "name": "stdout",
     "output_type": "stream",
     "text": [
      "Wall time: 750 ms\n"
     ]
    }
   ],
   "source": [
    "%%time\n",
    "epl_data = pd.concat(frames)\n",
    "epl_data.dropna(inplace=True)\n",
    "epl_data = epl_data.reset_index(drop=True)\n",
    "#epl_data\n"
   ]
  },
  {
   "cell_type": "code",
   "execution_count": 7,
   "metadata": {},
   "outputs": [
    {
     "name": "stdout",
     "output_type": "stream",
     "text": [
      "Wall time: 0 ns\n"
     ]
    }
   ],
   "source": [
    "%%time\n",
    "def mean(values):\n",
    "    return sum(values)*1.0/len(values)\n",
    "def stanDev(values):\n",
    "    length = len(values)\n",
    "    m = mean(values)\n",
    "    total_sum = 0\n",
    "    for i in range(length):\n",
    "        total_sum += (values[i]-m)**2\n",
    "    under_root = total_sum*1.0/(length-1)\n",
    "    return math.sqrt(under_root)"
   ]
  },
  {
   "cell_type": "code",
   "execution_count": 8,
   "metadata": {},
   "outputs": [],
   "source": [
    "epl_home = epl_data[['B365H','BWH','IWH','PSH','WHH','VCH']]\n",
    "epl_away = epl_data[['B365A','BWA','IWA','PSA','WHA','VCA']]\n"
   ]
  },
  {
   "cell_type": "code",
   "execution_count": 9,
   "metadata": {},
   "outputs": [
    {
     "name": "stdout",
     "output_type": "stream",
     "text": [
      "Wall time: 1min 3s\n"
     ]
    }
   ],
   "source": [
    "%%time\n",
    "home_standev = epl_home.apply(lambda row:\n",
    "                             stanDev([row['B365H'],row['BWH'],row['IWH'],row['PSH'],row['WHH'],row['VCH']]),axis=1)\n",
    "home_var = home_standev.apply(lambda row:row**2)\n",
    "away_standev = epl_away.apply(lambda row:\n",
    "                             stanDev([row['B365A'],row['BWA'],row['IWA'],row['PSA'],row['WHA'],row['VCA']]),axis=1)\n",
    "away_var = away_standev.apply(lambda row:row**2)\n"
   ]
  },
  {
   "cell_type": "code",
   "execution_count": 10,
   "metadata": {},
   "outputs": [
    {
     "name": "stdout",
     "output_type": "stream",
     "text": [
      "Wall time: 250 ms\n"
     ]
    }
   ],
   "source": [
    "%%time\n",
    "epl_data['Home_standev']=home_standev\n",
    "epl_data['Home_var'] = home_var\n",
    "epl_data['Away_standev'] = away_standev\n",
    "epl_data['Away_var'] = away_var"
   ]
  },
  {
   "cell_type": "code",
   "execution_count": 11,
   "metadata": {},
   "outputs": [
    {
     "name": "stdout",
     "output_type": "stream",
     "text": [
      "Wall time: 2.02 s\n"
     ]
    }
   ],
   "source": [
    "%%time\n",
    "epl_data_main2 = epl_data[['FTHG','FTAG','FTR','Home_standev','Home_var','Away_standev','Away_var']]\n",
    "epl_data_main2 = pd.get_dummies(epl_data_main2)\n",
    "#epl_data_main2"
   ]
  },
  {
   "cell_type": "code",
   "execution_count": 12,
   "metadata": {},
   "outputs": [
    {
     "name": "stdout",
     "output_type": "stream",
     "text": [
      "Wall time: 19.6 s\n"
     ]
    }
   ],
   "source": [
    "%%time\n",
    "from sklearn.linear_model import LinearRegression\n",
    "#from sklearn.feature_selection import f_regression\n",
    "#from sklearn.preprocessing import StandardScaler\n",
    "#from sklearn.model_selection import train_test_split"
   ]
  },
  {
   "cell_type": "code",
   "execution_count": 13,
   "metadata": {},
   "outputs": [
    {
     "name": "stdout",
     "output_type": "stream",
     "text": [
      "Wall time: 93 ms\n"
     ]
    }
   ],
   "source": [
    "%%time\n",
    "x0 = epl_data_main2[['FTHG', 'FTAG']]\n",
    "x1 = epl_data_main2[['Home_standev','Home_var']]\n",
    "x2 = epl_data_main2[['Away_standev','Away_var']]\n",
    "y = epl_data_main2[['FTHG']]\n",
    "y1 = epl_data_main2[['FTAG']]\n",
    "y2 = epl_data_main2['FTR_Home']\n",
    "y3 = epl_data_main2['FTR_Draw']\n",
    "y4 = epl_data_main2['FTR_Away']"
   ]
  },
  {
   "cell_type": "code",
   "execution_count": 14,
   "metadata": {},
   "outputs": [],
   "source": [
    "reg = LinearRegression()\n",
    "reg1 = LinearRegression()\n",
    "reg.fit(x1, y)\n",
    "reg1.fit(x2, y1)\n",
    "shat = reg.predict([[0.050261815,0.00252625]])\n",
    "s1hat = reg1.predict([[0.239038874,0.057139583]])\n",
    "reg_summary11 = pd.DataFrame([['Team1 Score'],['Team2 Score']],columns =['features'])\n",
    "reg_summary11['weights'] = float(shat),float(s1hat)\n",
    "#reg_summary11"
   ]
  },
  {
   "cell_type": "code",
   "execution_count": 15,
   "metadata": {
    "scrolled": true
   },
   "outputs": [],
   "source": [
    "reg2 = LinearRegression()\n",
    "reg3 = LinearRegression()\n",
    "reg4 = LinearRegression()\n",
    "reg2.fit(x0, y2)\n",
    "reg3.fit(x0, y3)\n",
    "reg4.fit(x0, y4)\n",
    "new_data = [[1.54647,1.17703]]\n",
    "yhat = reg2.predict(new_data)\n",
    "fhat = reg3.predict(new_data)\n",
    "bhat = reg4.predict(new_data)\n",
    "reg_summary9 = pd.DataFrame([['Outcome_Home'],['Outcome_Draw'],['Outcome_Away']],columns =['features'])\n",
    "reg_summary9['weights'] = yhat,fhat,bhat\n",
    "#reg_summary9"
   ]
  },
  {
   "cell_type": "code",
   "execution_count": 16,
   "metadata": {},
   "outputs": [
    {
     "name": "stdout",
     "output_type": "stream",
     "text": [
      "Wall time: 427 ms\n"
     ]
    }
   ],
   "source": [
    "%%time\n",
    "epl_data_main2[\"PTeam1_Score\"] = reg.predict(epl_data_main2[['Home_standev','Home_var']])\n",
    "epl_data_main2[\"PTeam1_Score\"] = epl_data_main2[\"PTeam1_Score\"].map(lambda x: float(x))\n",
    "epl_data_main2[\"PTeam2_Score\"] = reg1.predict(epl_data_main2[['Away_standev','Away_var']])\n",
    "epl_data_main2[\"PTeam2_Score\"] = epl_data_main2[\"PTeam2_Score\"].map(lambda x: float(x))\n",
    "\n",
    "\n",
    "epl_data_main2[\"POutcome_Home\"] = reg2.predict(epl_data_main2[['PTeam1_Score','PTeam2_Score']])\n",
    "epl_data_main2[\"POutcome_Draw\"] = reg3.predict(epl_data_main2[['PTeam1_Score','PTeam2_Score']])\n",
    "epl_data_main2[\"POutcome_Away\"] = reg4.predict(epl_data_main2[['PTeam1_Score','PTeam2_Score']])\n",
    "\n",
    "epl_data_main2[\"POutcome_Away\"] = epl_data_main2[\"POutcome_Away\"].map(lambda x: float(x))\n",
    "epl_data_main2[\"POutcome_Home\"] = epl_data_main2[\"POutcome_Home\"].map(lambda x: float(x))\n",
    "epl_data_main2[\"POutcome_Draw\"] = epl_data_main2[\"POutcome_Draw\"].map(lambda x: float(x))\n",
    "\n",
    "#epl_data_main2\n"
   ]
  },
  {
   "cell_type": "code",
   "execution_count": 17,
   "metadata": {
    "scrolled": true
   },
   "outputs": [
    {
     "name": "stdout",
     "output_type": "stream",
     "text": [
      "Wall time: 18.1 s\n"
     ]
    },
    {
     "data": {
      "text/html": [
       "<div>\n",
       "<style scoped>\n",
       "    .dataframe tbody tr th:only-of-type {\n",
       "        vertical-align: middle;\n",
       "    }\n",
       "\n",
       "    .dataframe tbody tr th {\n",
       "        vertical-align: top;\n",
       "    }\n",
       "\n",
       "    .dataframe thead th {\n",
       "        text-align: right;\n",
       "    }\n",
       "</style>\n",
       "<table border=\"1\" class=\"dataframe\">\n",
       "  <thead>\n",
       "    <tr style=\"text-align: right;\">\n",
       "      <th></th>\n",
       "      <th>features</th>\n",
       "      <th>Outcome</th>\n",
       "      <th>Over</th>\n",
       "      <th>btts</th>\n",
       "    </tr>\n",
       "  </thead>\n",
       "  <tbody>\n",
       "    <tr>\n",
       "      <th>0</th>\n",
       "      <td>0</td>\n",
       "      <td>0.0</td>\n",
       "      <td>2.0</td>\n",
       "      <td>3.0</td>\n",
       "    </tr>\n",
       "    <tr>\n",
       "      <th>1</th>\n",
       "      <td>1</td>\n",
       "      <td>3.0</td>\n",
       "      <td>1.0</td>\n",
       "      <td>0.0</td>\n",
       "    </tr>\n",
       "    <tr>\n",
       "      <th>2</th>\n",
       "      <td>2</td>\n",
       "      <td>0.0</td>\n",
       "      <td>0.0</td>\n",
       "      <td>0.0</td>\n",
       "    </tr>\n",
       "  </tbody>\n",
       "</table>\n",
       "</div>"
      ],
      "text/plain": [
       "   features  Outcome  Over  btts\n",
       "0         0      0.0   2.0   3.0\n",
       "1         1      3.0   1.0   0.0\n",
       "2         2      0.0   0.0   0.0"
      ]
     },
     "execution_count": 17,
     "metadata": {},
     "output_type": "execute_result"
    }
   ],
   "source": [
    "%%time\n",
    "epl_data_main3 = epl_data_main2[[\"FTHG\",\"FTAG\",\"PTeam1_Score\",\"PTeam2_Score\",\"POutcome_Home\",\"POutcome_Draw\",\"POutcome_Away\"]].copy(deep=True)\n",
    "Outcome = epl_data.apply(lambda row:custom_result(row['FTR']),axis=1)\n",
    "Over = epl_data_main3.apply(lambda row:goals(row[\"FTHG\"],row[\"FTAG\"]), axis=1)\n",
    "btts = epl_data_main3.apply(lambda row:\n",
    "                           1\n",
    "                           if ((int(row['FTHG'] != 0) and int(row['FTAG']) != 0))\n",
    "                           else 0, axis=1)\n",
    "epl_data_main3[\"Outcome\"] = Outcome\n",
    "epl_data_main3[\"Over\"] = Over\n",
    "epl_data_main3[\"btts\"] = btts\n",
    "\n",
    "\n",
    "curr = epl_data_main3[(epl_data_main3.POutcome_Home >= 0.49) & (epl_data_main3.POutcome_Home < 0.50) &\n",
    "                      (epl_data_main3.POutcome_Away >= 0.24) & (epl_data_main3.POutcome_Away < 0.25) &\n",
    "                      (epl_data_main3.PTeam1_Score >=1.61) & (epl_data_main3.PTeam1_Score < 1.62) &\n",
    "                      (epl_data_main3.PTeam2_Score >= 1.064) & (epl_data_main3.PTeam2_Score < 1.065)]\n",
    "\n",
    "\n",
    "reg_sum = pd.DataFrame([0,1,2],columns =['features'])\n",
    "reg_sum['Outcome'] = curr.groupby('Outcome').Outcome.count()\n",
    "reg_sum['Over'] = curr.groupby('Over').Over.count()\n",
    "reg_sum['btts'] = curr.groupby('btts').btts.count()\n",
    "reg_sum = reg_sum.fillna(0)\n",
    "reg_sum\n",
    "#for i in range(len(curr.groupby('Outcome').Outcome.count().keys())):\n",
    "    #if i \n",
    "#1.615186069\t1.064801025\t0.493083547\t0.259271182\t0.247645271\n",
    "\n",
    "#features\tOutcome\tOver\tbtts\n",
    "#0\t0\t3.0\t7.0\t8.0\n",
    "#1\t1\t9.0\t7.0\t6.0\n",
    "#2\t2\t3.0\t0.0\t0.0\n"
   ]
  },
  {
   "cell_type": "code",
   "execution_count": 173,
   "metadata": {},
   "outputs": [
    {
     "name": "stdout",
     "output_type": "stream",
     "text": [
      "Wall time: 0 ns\n"
     ]
    }
   ],
   "source": [
    "%%time\n",
    "def trunc(f, n):\n",
    "    return math.floor(f * 10 ** n) / 10 ** n\n",
    "def pred(values, data):\n",
    "    a,b,c = 0,0,0\n",
    "    val = values.tolist()\n",
    "    for i in range(4):\n",
    "        if i == 0:\n",
    "            curr = data[(data.POutcome_Home >= trunc(val[0], 3)) & (data.POutcome_Home < trunc((val[0]+0.001),3)) &\n",
    "                        (data.POutcome_Away >= trunc(val[1], 2)) & (data.POutcome_Away < trunc((val[1]+0.01),2)) &\n",
    "                        (data.PTeam1_Score >= trunc(val[2], 2)) & (data.PTeam1_Score < trunc((val[2]+0.01),2)) &\n",
    "                        (data.PTeam2_Score >= trunc(val[3], 2)) & (data.PTeam2_Score < trunc((val[3]+0.01),2))]\n",
    "            reg_sum = pd.DataFrame([0,1,2],columns =['features'])\n",
    "            reg_sum['Outcome'] = curr.groupby('Outcome').Outcome.count()\n",
    "            reg_sum['Over'] = curr.groupby('Over').Over.count()\n",
    "            reg_sum['btts'] = curr.groupby('btts').btts.count()\n",
    "            reg_sum = reg_sum.fillna(0)\n",
    "            a = reg_sum['Outcome']\n",
    "            b = reg_sum['Over']\n",
    "            c = reg_sum['btts']\n",
    "        elif i == 1:\n",
    "            curr = data[(data.POutcome_Home >= trunc(val[0], 2)) & (data.POutcome_Home < trunc((val[0]+0.01),2)) &\n",
    "                        (data.POutcome_Away >= trunc(val[1], 3)) & (data.POutcome_Away < trunc((val[1]+0.001),3)) &\n",
    "                        (data.PTeam1_Score >= trunc(val[2], 2)) & (data.PTeam1_Score < trunc((val[2]+0.01),2)) &\n",
    "                        (data.PTeam2_Score >= trunc(val[3], 2)) & (data.PTeam2_Score < trunc((val[3]+0.01),2))]\n",
    "            reg_sum = pd.DataFrame([0,1,2],columns =['features'])\n",
    "            reg_sum['Outcome'] = curr.groupby('Outcome').Outcome.count()\n",
    "            reg_sum['Over'] = curr.groupby('Over').Over.count()\n",
    "            reg_sum['btts'] = curr.groupby('btts').btts.count()\n",
    "            reg_sum = reg_sum.fillna(0)\n",
    "            a[0] += reg_sum['Outcome'][0]\n",
    "            a[1] += reg_sum['Outcome'][1]\n",
    "            a[2] += reg_sum['Outcome'][2]\n",
    "            b[0] += reg_sum['Over'][0]\n",
    "            b[1] += reg_sum['Over'][1]\n",
    "            c[0] += reg_sum['btts'][0]\n",
    "            c[1] += reg_sum['btts'][1]\n",
    "        elif i == 2:\n",
    "            curr = data[(data.POutcome_Home >= trunc(val[0], 2)) & (data.POutcome_Home < trunc((val[0]+0.01),2)) &\n",
    "                        (data.POutcome_Away >= trunc(val[1], 2)) & (data.POutcome_Away < trunc((val[1]+0.01),2)) &\n",
    "                        (data.PTeam1_Score >= trunc(val[2], 3)) & (data.PTeam1_Score < trunc((val[2]+0.001),3)) &\n",
    "                        (data.PTeam2_Score >= trunc(val[3], 2)) & (data.PTeam2_Score < trunc((val[3]+0.01),2))]\n",
    "            reg_sum = pd.DataFrame([0,1,2],columns =['features'])\n",
    "            reg_sum['Outcome'] = curr.groupby('Outcome').Outcome.count()\n",
    "            reg_sum['Over'] = curr.groupby('Over').Over.count()\n",
    "            reg_sum['btts'] = curr.groupby('btts').btts.count()\n",
    "            reg_sum = reg_sum.fillna(0)\n",
    "            a[0] += reg_sum['Outcome'][0]\n",
    "            a[1] += reg_sum['Outcome'][1]\n",
    "            a[2] += reg_sum['Outcome'][2]\n",
    "            b[0] += reg_sum['Over'][0]\n",
    "            b[1] += reg_sum['Over'][1]\n",
    "            c[0] += reg_sum['btts'][0]\n",
    "            c[1] += reg_sum['btts'][1]\n",
    "        elif i == 3:\n",
    "            curr = data[(data.POutcome_Home >= trunc(val[0], 2)) & (data.POutcome_Home < trunc((val[0]+0.01),2)) &\n",
    "                        (data.POutcome_Away >= trunc(val[1], 2)) & (data.POutcome_Away < trunc((val[1]+0.01),2)) &\n",
    "                        (data.PTeam1_Score >= trunc(val[2], 2)) & (data.PTeam1_Score < trunc((val[2]+0.01),2)) &\n",
    "                        (data.PTeam2_Score >= trunc(val[3], 3)) & (data.PTeam2_Score < trunc((val[3]+0.001),3))]\n",
    "            reg_sum = pd.DataFrame([0,1,2],columns =['features'])\n",
    "            reg_sum['Outcome'] = curr.groupby('Outcome').Outcome.count()\n",
    "            reg_sum['Over'] = curr.groupby('Over').Over.count()\n",
    "            reg_sum['btts'] = curr.groupby('btts').btts.count()\n",
    "            reg_sum = reg_sum.fillna(0)\n",
    "            a[0] += reg_sum['Outcome'][0]\n",
    "            a[1] += reg_sum['Outcome'][1]\n",
    "            a[2] += reg_sum['Outcome'][2]\n",
    "            b[0] += reg_sum['Over'][0]\n",
    "            b[1] += reg_sum['Over'][1]\n",
    "            c[0] += reg_sum['btts'][0]\n",
    "            c[1] += reg_sum['btts'][1]\n",
    "    predict = []\n",
    "    if (a[1] > (a[0] and a[2])):\n",
    "        predict.append(\"Home\")\n",
    "    elif (a[2] > (a[0] and a[1])):\n",
    "        predict.append(\"Away\")\n",
    "    else:\n",
    "        predict.append(\"Draw\")\n",
    "    if b[0] > b[1]:\n",
    "        predict.append(\"Under2.5\")\n",
    "    else:\n",
    "        predict.append(\"Over2.5\")\n",
    "    if c[0] > c[1]:\n",
    "        predict.append(\"No-BTTS\")\n",
    "    else:\n",
    "        predict.append(\"BTTS\")\n",
    "    #print(epl_data_main2.index[epl_data_main2[\"POutcome_Home\"]==values[0]].tolist())\n",
    "    return \",\".join(predict)\n",
    "        "
   ]
  },
  {
   "cell_type": "code",
   "execution_count": 174,
   "metadata": {},
   "outputs": [
    {
     "data": {
      "text/plain": [
       "'Away,Over2.5,BTTS'"
      ]
     },
     "execution_count": 174,
     "metadata": {},
     "output_type": "execute_result"
    }
   ],
   "source": [
    "pred(np.array([0.383639032,0.343443103,1.346561849,1.280044852]),epl_data_main3)"
   ]
  },
  {
   "cell_type": "code",
   "execution_count": 20,
   "metadata": {},
   "outputs": [],
   "source": [
    "df = epl_data[['FTHG','FTAG','FTR','Home_standev','Home_var','Away_standev','Away_var']].copy()\n",
    "df['PTeam1_Score'] = reg.predict(df[['Home_standev','Home_var']])\n",
    "\n",
    "df['PTeam2_Score'] = reg1.predict(df[['Away_standev','Away_var']])\n",
    "df[\"PTeam1_Score\"] = df[\"PTeam1_Score\"].map(lambda x: float(x))\n",
    "df[\"PTeam2_Score\"] = df[\"PTeam2_Score\"].map(lambda x: float(x))\n",
    "df[\"Over\"] = df.apply(lambda row:goals(row[\"FTHG\"],row[\"FTAG\"]), axis=1)\n",
    "df[\"btts\"] = df.apply(lambda row:\n",
    "                           1\n",
    "                           if ((int(row['FTHG'] != 0) and int(row['FTAG']) != 0))\n",
    "                           else 0, axis=1)\n",
    "df['POutcome_Home'] = reg2.predict(df[[\"PTeam1_Score\",\"PTeam2_Score\"]])\n",
    "df['POutcome_Away'] = reg4.predict(df[[\"PTeam1_Score\",\"PTeam2_Score\"]])\n",
    "df[\"POutcome_Away\"] = df[\"POutcome_Away\"].map(lambda x: float(x))\n",
    "df[\"POutcome_Home\"] = df[\"POutcome_Home\"].map(lambda x: float(x))\n",
    "#df['FTR'] = df['FTR'].map({'Away':0,'Home':2,'Draw':1})\n",
    "#df = df[df.FTR != 2]"
   ]
  },
  {
   "cell_type": "code",
   "execution_count": 21,
   "metadata": {},
   "outputs": [],
   "source": [
    "from sklearn.model_selection import train_test_split\n",
    "from sklearn.linear_model import LogisticRegression\n",
    "from sklearn import metrics\n"
   ]
  },
  {
   "cell_type": "code",
   "execution_count": 22,
   "metadata": {},
   "outputs": [
    {
     "data": {
      "text/plain": [
       "LogisticRegression(C=1.0, class_weight=None, dual=False, fit_intercept=True,\n",
       "                   intercept_scaling=1, l1_ratio=None, max_iter=100,\n",
       "                   multi_class='auto', n_jobs=None, penalty='l2',\n",
       "                   random_state=None, solver='lbfgs', tol=0.0001, verbose=0,\n",
       "                   warm_start=False)"
      ]
     },
     "execution_count": 22,
     "metadata": {},
     "output_type": "execute_result"
    }
   ],
   "source": [
    "df1 = df.copy()\n",
    "df1['FTR'] = df1['FTR'].map({'Away':1,'Home':0,'Draw':2})\n",
    "df1 = df1[df1.FTR != 2]\n",
    "x1 = df1[['Home_standev','Home_var','Away_standev','Away_var']]\n",
    "logreg = LogisticRegression()\n",
    "logreg.fit(x1, df1.FTR)"
   ]
  },
  {
   "cell_type": "code",
   "execution_count": 23,
   "metadata": {},
   "outputs": [
    {
     "data": {
      "text/plain": [
       "LogisticRegression(C=1.0, class_weight=None, dual=False, fit_intercept=True,\n",
       "                   intercept_scaling=1, l1_ratio=None, max_iter=100,\n",
       "                   multi_class='auto', n_jobs=None, penalty='l2',\n",
       "                   random_state=None, solver='lbfgs', tol=0.0001, verbose=0,\n",
       "                   warm_start=False)"
      ]
     },
     "execution_count": 23,
     "metadata": {},
     "output_type": "execute_result"
    }
   ],
   "source": [
    "df2 = df.copy()\n",
    "df2['FTR'] = df2['FTR'].map({'Away':2,'Home':1,'Draw':0})\n",
    "df2 = df2[df2.FTR != 2]\n",
    "x2 = df2[['Home_standev','Home_var','Away_standev','Away_var']]\n",
    "logreg1 = LogisticRegression()\n",
    "logreg1.fit(x2, df2.FTR)"
   ]
  },
  {
   "cell_type": "code",
   "execution_count": 24,
   "metadata": {},
   "outputs": [
    {
     "data": {
      "text/plain": [
       "LogisticRegression(C=1.0, class_weight=None, dual=False, fit_intercept=True,\n",
       "                   intercept_scaling=1, l1_ratio=None, max_iter=100,\n",
       "                   multi_class='auto', n_jobs=None, penalty='l2',\n",
       "                   random_state=None, solver='lbfgs', tol=0.0001, verbose=0,\n",
       "                   warm_start=False)"
      ]
     },
     "execution_count": 24,
     "metadata": {},
     "output_type": "execute_result"
    }
   ],
   "source": [
    "df3 = df.copy()\n",
    "df3['FTR'] = df3['FTR'].map({'Away':1,'Home':2,'Draw':0})\n",
    "df3 = df3[df3.FTR != 2]\n",
    "x3 = df3[['Home_standev','Home_var','Away_standev','Away_var']]\n",
    "logreg2 = LogisticRegression()\n",
    "logreg2.fit(x3, df3.FTR)"
   ]
  },
  {
   "cell_type": "code",
   "execution_count": 25,
   "metadata": {},
   "outputs": [
    {
     "name": "stdout",
     "output_type": "stream",
     "text": [
      "Optimization terminated successfully.\n",
      "         Current function value: 0.647543\n",
      "         Iterations 6\n"
     ]
    }
   ],
   "source": [
    "x1 = df1[['Home_standev','Home_var','Away_standev','Away_var']]\n",
    "x2 = df2[['Home_standev','Home_var','Away_standev','Away_var']]\n",
    "x3 = df3[['Home_standev','Home_var','Away_standev','Away_var']]\n",
    "x = sm.add_constant(x1)\n",
    "reg_log = sm.Logit(df2.FTR, x2)\n",
    "results_log = reg_log.fit()\n",
    "#results_log.summary()"
   ]
  },
  {
   "cell_type": "code",
   "execution_count": 26,
   "metadata": {},
   "outputs": [],
   "source": [
    "\n",
    "np.set_printoptions(formatter={'float':lambda x:\"{0:0.2F}\".format(x)})\n",
    "cm_df = pd.DataFrame(results_log.pred_table())\n",
    "cm_df.columns = ['Predicted 0','Predicted 1']\n",
    "cm_df = cm_df.rename(index={0:'Actual 0',1:'Actual 1'})\n",
    "#cm_df"
   ]
  },
  {
   "cell_type": "code",
   "execution_count": 27,
   "metadata": {},
   "outputs": [
    {
     "data": {
      "text/plain": [
       "0.6232247691895447"
      ]
     },
     "execution_count": 27,
     "metadata": {},
     "output_type": "execute_result"
    }
   ],
   "source": [
    "cm = np.array(cm_df)\n",
    "accuracy_train = (cm[0,0]+cm[1,1])/cm.sum()\n",
    "accuracy_train"
   ]
  },
  {
   "cell_type": "code",
   "execution_count": 28,
   "metadata": {},
   "outputs": [],
   "source": [
    "#PTEAM1_Score & PTEAM2_Score predict df.Over = 0.586274601467907\n",
    "#PTEAM1_Score & PTEAM2_Score predict df.btts = 0.5485250806413913\n",
    "#PTEAM1_Score & PTEAM2_Score predict df.FTR = 0.6659810200551634\n",
    "#Home_Standev & Home_Var & Away_Standev & Away_Var predict df.Over = 0.5864382216820158\n",
    "#Home_Standev & Home_Var & Away_Standev & Away_Var predict df.btts = 0.5486185779065962\n",
    "#Home_Standev & Home_Var & Away_Standev & Away_Var predict df.FTR(Home & Away) = 0.6662615118507783\n",
    "#Home_Standev & Home_Var & Away_Standev & Away_Var predict df.FTR(Home & Draw) = 0.6258800029231931\n",
    "#Home_Standev & Home_Var & Away_Standev & Away_Var predict df.FTR(Away & Draw) = 0.5816478603363849"
   ]
  },
  {
   "cell_type": "code",
   "execution_count": 200,
   "metadata": {},
   "outputs": [],
   "source": [
    "epl_data_main2[\"POutcome_H0_A1\"] = logreg.predict(epl_data_main2[['Home_standev','Home_var','Away_standev','Away_var']])\n",
    "epl_data_main2[\"POutcome_H0_A1\"] = epl_data_main2['POutcome_H0_A1'].map({0:'Home',1:'Away'})\n",
    "\n",
    "epl_data_main2[\"POutcome_H1_D0\"] = logreg1.predict(epl_data_main2[['Home_standev','Home_var','Away_standev','Away_var']])\n",
    "epl_data_main2[\"POutcome_H1_D0\"] = epl_data_main2['POutcome_H1_D0'].map({0:'Draw',1:'Home'})\n",
    "\n",
    "epl_data_main2[\"POutcome_D0_A1\"] = logreg2.predict(epl_data_main2[['Home_standev','Home_var','Away_standev','Away_var']])\n",
    "epl_data_main2[\"POutcome_D0_A1\"] = epl_data_main2['POutcome_D0_A1'].map({0:'Draw',1:'Away'})"
   ]
  },
  {
   "cell_type": "code",
   "execution_count": 201,
   "metadata": {},
   "outputs": [],
   "source": [
    "\n",
    "#epl_data_main2[\"LinPred\"] = epl_data_main2.apply(lambda row:pred(row[['POutcome_Home','POutcome_Away','PTeam1_Score','PTeam2_Score']].values,epl_data_main3), axis=1)"
   ]
  },
  {
   "cell_type": "code",
   "execution_count": 31,
   "metadata": {},
   "outputs": [],
   "source": [
    "#epl_data_main2.to_csv(\"C:/Users/good/Desktop/zzzzz/dsk/Emma's Documents/Documents/200 level courses/Data Science/Predictive_analysis2.csv\",index=False)"
   ]
  },
  {
   "cell_type": "code",
   "execution_count": 187,
   "metadata": {},
   "outputs": [],
   "source": [
    "dat = pd.read_csv(\"C:/Users/good/Desktop/zzzzz/dsk/Emma's Documents/Documents/200 level courses/Data Science/BetAnalysis3.csv\")\n",
    "p_value = pd.read_csv(\"C:/Users/good/Desktop/zzzzz/dsk/Emma's Documents/Documents/200 level courses/Data Science/Predictive_analysis1.csv\")\n",
    "dat.rename(columns={' Team1 Standard Deviation':'1StanDev',\n",
    "           'Team1 Variance':'1Var',\n",
    "           'Team2 Standard Dev':'2StanDev',\n",
    "            'Team2 Variance':'2Var'},inplace=True)"
   ]
  },
  {
   "cell_type": "code",
   "execution_count": 188,
   "metadata": {},
   "outputs": [],
   "source": [
    "p_value[\"PTeam1_Score\"] = reg.predict(dat[['1StanDev','1Var']])\n",
    "p_value[\"PTeam1_Score\"] = p_value[\"PTeam1_Score\"].map(lambda x: float(x))\n",
    "\n",
    "p_value[\"PTeam2_Score\"] = reg1.predict(dat[['2StanDev','2Var']])\n",
    "p_value[\"PTeam2_Score\"] = p_value[\"PTeam2_Score\"].map(lambda x: float(x))\n",
    "\n",
    "p_value[\"POutcome_Home\"] = reg2.predict(p_value[[\"PTeam1_Score\",\"PTeam2_Score\"]])\n",
    "p_value[\"POutcome_Home\"] = p_value[\"POutcome_Home\"].map(lambda x: float(x))\n",
    "\n",
    "p_value[\"POutcome_Draw\"] = reg3.predict(p_value[[\"PTeam1_Score\",\"PTeam2_Score\"]])\n",
    "p_value[\"POutcome_Draw\"] = p_value[\"POutcome_Draw\"].map(lambda x: float(x))\n",
    "\n",
    "p_value[\"POutcome_Away\"] = reg4.predict(p_value[[\"PTeam1_Score\",\"PTeam2_Score\"]])\n",
    "p_value[\"POutcome_Away\"] = p_value[\"POutcome_Away\"].map(lambda x: float(x))"
   ]
  },
  {
   "cell_type": "code",
   "execution_count": 189,
   "metadata": {},
   "outputs": [
    {
     "name": "stdout",
     "output_type": "stream",
     "text": [
      "Wall time: 22 s\n"
     ]
    }
   ],
   "source": [
    "%%time\n",
    "p_value[\"LinPred\"] = p_value.apply(lambda row:pred(row[['POutcome_Home','POutcome_Away','PTeam1_Score','PTeam2_Score']].values,epl_data_main3), axis=1)"
   ]
  },
  {
   "cell_type": "code",
   "execution_count": 190,
   "metadata": {},
   "outputs": [],
   "source": [
    "p_value[\"POutcome_H0_A1\"] = logreg.predict(dat[['1StanDev','1Var','2StanDev','2Var']])\n",
    "p_value[\"POutcome_H0_A1\"] = p_value['POutcome_H0_A1'].map({0:'Home',1:'Away'})\n",
    "\n",
    "p_value[\"POutcome_H1_D0\"] = logreg1.predict(dat[['1StanDev','1Var','2StanDev','2Var']])\n",
    "p_value[\"POutcome_H1_D0\"] = p_value['POutcome_H1_D0'].map({0:'Draw',1:'Home'})\n",
    "\n",
    "p_value[\"POutcome_D0_A1\"] = logreg2.predict(dat[['1StanDev','1Var','2StanDev','2Var']])\n",
    "p_value[\"POutcome_D0_A1\"] = p_value['POutcome_D0_A1'].map({0:'Draw',1:'Away'})\n",
    "#p_value.to_csv(\"C:/Users/good/Desktop/zzzzz/dsk/Emma's Documents/Documents/200 level courses/Data Science/Predictive_analysis1.csv\",index=False)"
   ]
  },
  {
   "cell_type": "code",
   "execution_count": 191,
   "metadata": {},
   "outputs": [],
   "source": [
    "#p_value.tail(5)"
   ]
  },
  {
   "cell_type": "code",
   "execution_count": null,
   "metadata": {},
   "outputs": [],
   "source": [
    "%%time\n",
    "analys = pd.read_csv(\"C:/Users/good/Desktop/zzzzz/dsk/Emma's Documents/Documents/200 level courses/Data Science/Predictive_analysis2.csv\")\n",
    "Outcome = epl_data.apply(lambda row:custom_result(row['FTR']),axis=1)\n",
    "Over = analys.apply(lambda row:goals(row[\"FTHG\"],row[\"FTAG\"]), axis=1)\n",
    "btts = analys.apply(lambda row:\n",
    "                           1\n",
    "                           if ((int(row['FTHG'] != 0) and int(row['FTAG']) != 0))\n",
    "                           else 0, axis=1)\n",
    "analys[\"Outcome\"] = Outcome\n",
    "analys[\"Over\"] = Over\n",
    "analys[\"btts\"] = btts\n",
    "analys[\"prob\"] = analys.apply(lambda row:prob(row[['POutcome_H0_A1','POutcome_H1_D0','POutcome_D0_A1','LinPred']].values,analys), axis=1)"
   ]
  },
  {
   "cell_type": "code",
   "execution_count": null,
   "metadata": {},
   "outputs": [],
   "source": []
  },
  {
   "cell_type": "code",
   "execution_count": 175,
   "metadata": {},
   "outputs": [
    {
     "data": {
      "text/html": [
       "<div>\n",
       "<style scoped>\n",
       "    .dataframe tbody tr th:only-of-type {\n",
       "        vertical-align: middle;\n",
       "    }\n",
       "\n",
       "    .dataframe tbody tr th {\n",
       "        vertical-align: top;\n",
       "    }\n",
       "\n",
       "    .dataframe thead th {\n",
       "        text-align: right;\n",
       "    }\n",
       "</style>\n",
       "<table border=\"1\" class=\"dataframe\">\n",
       "  <thead>\n",
       "    <tr style=\"text-align: right;\">\n",
       "      <th></th>\n",
       "      <th>features</th>\n",
       "      <th>Outcome</th>\n",
       "      <th>Over</th>\n",
       "      <th>btts</th>\n",
       "    </tr>\n",
       "  </thead>\n",
       "  <tbody>\n",
       "    <tr>\n",
       "      <th>0</th>\n",
       "      <td>0</td>\n",
       "      <td>540</td>\n",
       "      <td>764.0</td>\n",
       "      <td>746.0</td>\n",
       "    </tr>\n",
       "    <tr>\n",
       "      <th>1</th>\n",
       "      <td>1</td>\n",
       "      <td>545</td>\n",
       "      <td>1558.0</td>\n",
       "      <td>1576.0</td>\n",
       "    </tr>\n",
       "    <tr>\n",
       "      <th>2</th>\n",
       "      <td>2</td>\n",
       "      <td>1237</td>\n",
       "      <td>0.0</td>\n",
       "      <td>0.0</td>\n",
       "    </tr>\n",
       "  </tbody>\n",
       "</table>\n",
       "</div>"
      ],
      "text/plain": [
       "   features  Outcome    Over    btts\n",
       "0         0      540   764.0   746.0\n",
       "1         1      545  1558.0  1576.0\n",
       "2         2     1237     0.0     0.0"
      ]
     },
     "execution_count": 175,
     "metadata": {},
     "output_type": "execute_result"
    }
   ],
   "source": [
    "pd.set_option('display.max_rows', 100)\n",
    "cut = analys[(analys[\"POutcome_H0_A1\"]=='Away') & \n",
    "             (analys['POutcome_H1_D0']=='Home') & \n",
    "             (analys['POutcome_D0_A1']=='Away') &\n",
    "                (analys['LinPred'] == 'Away,Over2.5,BTTS')]\n",
    "cut = cut[[\"FTHG\",\"FTAG\",\"POutcome_H0_A1\",\"POutcome_H1_D0\",\"POutcome_D0_A1\",\"LinPred\",\"Outcome\",\"Over\",\"btts\"]]\n",
    "reg_sum = pd.DataFrame([0,1,2],columns =['features'])\n",
    "reg_sum['Outcome'] = cut.groupby('Outcome').Outcome.count()\n",
    "reg_sum['Over'] = cut.groupby('Over').Over.count()\n",
    "reg_sum['btts'] = cut.groupby('btts').btts.count()\n",
    "reg_sum = reg_sum.fillna(0)\n",
    "reg_sum"
   ]
  },
  {
   "cell_type": "code",
   "execution_count": 194,
   "metadata": {},
   "outputs": [
    {
     "name": "stdout",
     "output_type": "stream",
     "text": [
      "Wall time: 0 ns\n"
     ]
    }
   ],
   "source": [
    "%%time\n",
    "def prob(values, data):\n",
    "    val = values.tolist()\n",
    "    cut = data[(data[\"POutcome_H0_A1\"]==val[0]) & \n",
    "               (data['POutcome_H1_D0']==val[1]) & \n",
    "               (data['POutcome_D0_A1']==val[2]) &\n",
    "               (data['LinPred'] ==val[3])]\n",
    "    reg_sum = pd.DataFrame([0,1,2],columns =['features'])\n",
    "    reg_sum['Outcome'] = cut.groupby('Outcome').Outcome.count()\n",
    "    reg_sum['Over'] = cut.groupby('Over').Over.count()\n",
    "    reg_sum['btts'] = cut.groupby('btts').btts.count()\n",
    "    reg_sum = reg_sum.fillna(0)\n",
    "    a = reg_sum['Outcome']\n",
    "    b = reg_sum['Over']\n",
    "    c = reg_sum['btts']\n",
    "    predict = []\n",
    "    if (a[1] > a[0] and a[1] > a[2]):\n",
    "        a_num = \"{:.0%}\".format((reg_sum['Outcome'][1]/(reg_sum['Outcome'].sum())))\n",
    "        predict.append(\"{} Home\".format(a_num))\n",
    "    elif (a[2] > a[0] and a[2] > a[1]):\n",
    "        a_num = \"{:.0%}\".format((reg_sum['Outcome'][2]/(reg_sum['Outcome'].sum())))\n",
    "        predict.append(\"{} Away\".format(a_num))\n",
    "    else:\n",
    "        a_num = \"{:.0%}\".format((reg_sum['Outcome'][0]/(reg_sum['Outcome'].sum())))\n",
    "        predict.append(\"{} Draw\".format(a_num))\n",
    "    if b[0] > b[1]:\n",
    "        a_num = \"{:.0%}\".format((reg_sum['Over'][0]/(reg_sum['Over'].sum())))\n",
    "        predict.append(\"{} Under2.5\".format(a_num))\n",
    "    else:\n",
    "        a_num = \"{:.0%}\".format((reg_sum['Over'][1]/(reg_sum['Over'].sum())))\n",
    "        predict.append(\"{} Over2.5\".format(a_num))\n",
    "    if c[0] > c[1]:\n",
    "        a_num = \"{:.0%}\".format((reg_sum['btts'][0]/(reg_sum['btts'].sum())))\n",
    "        predict.append(\"{} No-BTTS\".format(a_num))\n",
    "    else:\n",
    "        a_num = \"{:.0%}\".format((reg_sum['btts'][1]/(reg_sum['btts'].sum())))\n",
    "        predict.append(\"{} BTTS\".format(a_num))\n",
    "\n",
    "    return \",\".join(predict)"
   ]
  },
  {
   "cell_type": "code",
   "execution_count": 195,
   "metadata": {},
   "outputs": [
    {
     "data": {
      "text/plain": [
       "'53% Away,67% Over2.5,68% BTTS'"
      ]
     },
     "execution_count": 195,
     "metadata": {},
     "output_type": "execute_result"
    }
   ],
   "source": [
    "prob(np.array([\"Away\",\"Home\",\"Away\",\"Away,Over2.5,BTTS\"]),analys)"
   ]
  },
  {
   "cell_type": "code",
   "execution_count": 196,
   "metadata": {},
   "outputs": [
    {
     "name": "stdout",
     "output_type": "stream",
     "text": [
      "Wall time: 11.8 s\n"
     ]
    }
   ],
   "source": [
    "%%time\n",
    "p_value[\"prob\"] = p_value.apply(lambda row:prob(row[['POutcome_H0_A1','POutcome_H1_D0','POutcome_D0_A1','LinPred']].values,analys), axis=1)"
   ]
  },
  {
   "cell_type": "code",
   "execution_count": 197,
   "metadata": {},
   "outputs": [],
   "source": [
    "p_value.to_csv(\"C:/Users/good/Desktop/zzzzz/dsk/Emma's Documents/Documents/200 level courses/Data Science/Predictive_analysis1.csv\",index=False)"
   ]
  },
  {
   "cell_type": "code",
   "execution_count": null,
   "metadata": {},
   "outputs": [],
   "source": []
  }
 ],
 "metadata": {
  "kernelspec": {
   "display_name": "Python 3",
   "language": "python",
   "name": "python3"
  },
  "language_info": {
   "codemirror_mode": {
    "name": "ipython",
    "version": 3
   },
   "file_extension": ".py",
   "mimetype": "text/x-python",
   "name": "python",
   "nbconvert_exporter": "python",
   "pygments_lexer": "ipython3",
   "version": "3.7.6"
  }
 },
 "nbformat": 4,
 "nbformat_minor": 4
}
